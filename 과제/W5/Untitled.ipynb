{
 "cells": [
  {
   "cell_type": "code",
   "execution_count": null,
   "id": "0549b314-c338-40c9-acc9-e4e617c186b7",
   "metadata": {},
   "outputs": [],
   "source": [
    "from pyspark import SparkContext, SparkConf\n",
    "import csv\n",
    "from io import StringIO\n",
    "\n",
    "# Spark 설정\n",
    "conf = SparkConf().setAppName(\"NYC_Taxi_Analysis\").setMaster(\"local[*]\").set(\"spark.driver.bindAddress\", \"127.0.0.1\") \\\n",
    "    .set(\"spark.driver.host\", \"127.0.0.1\") \\\n",
    "    .set(\"spark.blockManager.port\", \"0\") \\\n",
    "    .set(\"spark.driver.memory\", \"4g\") \\\n",
    "    .set(\"spark.executor.memory\", \"4g\")\n",
    "\n",
    "sc = SparkContext.getOrCreate(conf=conf)\n",
    "\n",
    "# 데이터 로드 함수\n",
    "def load_data(file_path, file_format):\n",
    "    if file_format == \"parquet\":\n",
    "        raw_rdd = sc.binaryFiles(file_path)\n",
    "    return raw_rdd\n",
    "\n",
    "rdd = load_data(\"/Users/admin/Desktop/GitHub/softeer/과제/W5/M1/NYC_TLC_Trip_Data\", \"parquet\")\n",
    "print(rdd.take(5))"
   ]
  },
  {
   "cell_type": "code",
   "execution_count": 5,
   "id": "cb4e1867-6683-4e2f-b97f-dd111a7136b2",
   "metadata": {},
   "outputs": [
    {
     "ename": "AttributeError",
     "evalue": "'SparkConf' object has no attribute 'exit'",
     "output_type": "error",
     "traceback": [
      "\u001b[0;31m---------------------------------------------------------------------------\u001b[0m",
      "\u001b[0;31mAttributeError\u001b[0m                            Traceback (most recent call last)",
      "Cell \u001b[0;32mIn[5], line 1\u001b[0m\n\u001b[0;32m----> 1\u001b[0m \u001b[43mconf\u001b[49m\u001b[38;5;241;43m.\u001b[39;49m\u001b[43mexit\u001b[49m()\n",
      "\u001b[0;31mAttributeError\u001b[0m: 'SparkConf' object has no attribute 'exit'"
     ]
    },
    {
     "name": "stderr",
     "output_type": "stream",
     "text": [
      "[Stage 0:>                                                          (0 + 1) / 1]"
     ]
    }
   ],
   "source": [
    "conf.exit()"
   ]
  },
  {
   "cell_type": "code",
   "execution_count": 6,
   "id": "7eb4f550-5106-4b03-b832-650118285bce",
   "metadata": {},
   "outputs": [],
   "source": [
    "sc.stop()"
   ]
  },
  {
   "cell_type": "code",
   "execution_count": 7,
   "id": "a94fc1a7-ee0f-4b84-a49b-532aec4845b2",
   "metadata": {},
   "outputs": [
    {
     "ename": "AnalysisException",
     "evalue": "[PATH_NOT_FOUND] Path does not exist: file:/Users/admin/Desktop/GitHub/softeer/과제/W5/NYC_TLC_Trip_Data/yellow_tripdata_2022-01.parquet.",
     "output_type": "error",
     "traceback": [
      "\u001b[0;31m---------------------------------------------------------------------------\u001b[0m",
      "\u001b[0;31mAnalysisException\u001b[0m                         Traceback (most recent call last)",
      "Cell \u001b[0;32mIn[7], line 75\u001b[0m\n\u001b[1;32m     71\u001b[0m     daily_df\u001b[38;5;241m.\u001b[39mcoalesce(\u001b[38;5;241m1\u001b[39m)\u001b[38;5;241m.\u001b[39mwrite\u001b[38;5;241m.\u001b[39mcsv(\u001b[38;5;124mf\u001b[39m\u001b[38;5;124m\"\u001b[39m\u001b[38;5;132;01m{\u001b[39;00moutput_path\u001b[38;5;132;01m}\u001b[39;00m\u001b[38;5;124m/daily_results.csv\u001b[39m\u001b[38;5;124m\"\u001b[39m, mode\u001b[38;5;241m=\u001b[39m\u001b[38;5;124m\"\u001b[39m\u001b[38;5;124moverwrite\u001b[39m\u001b[38;5;124m\"\u001b[39m, header\u001b[38;5;241m=\u001b[39m\u001b[38;5;28;01mTrue\u001b[39;00m)\n\u001b[1;32m     74\u001b[0m \u001b[38;5;28;01mif\u001b[39;00m \u001b[38;5;18m__name__\u001b[39m \u001b[38;5;241m==\u001b[39m \u001b[38;5;124m\"\u001b[39m\u001b[38;5;124m__main__\u001b[39m\u001b[38;5;124m\"\u001b[39m :\n\u001b[0;32m---> 75\u001b[0m     raw_rdd \u001b[38;5;241m=\u001b[39m \u001b[43mload_data\u001b[49m\u001b[43m(\u001b[49m\u001b[38;5;124;43m\"\u001b[39;49m\u001b[38;5;124;43m./NYC_TLC_Trip_Data/yellow_tripdata_2022-01.parquet\u001b[39;49m\u001b[38;5;124;43m\"\u001b[39;49m\u001b[43m,\u001b[49m\u001b[43m \u001b[49m\u001b[38;5;124;43m\"\u001b[39;49m\u001b[38;5;124;43mparquet\u001b[39;49m\u001b[38;5;124;43m\"\u001b[39;49m\u001b[43m)\u001b[49m\n\u001b[1;32m     76\u001b[0m     cleaned_rdd \u001b[38;5;241m=\u001b[39m clean_data(raw_rdd)\n\u001b[1;32m     77\u001b[0m     transformed_rdd \u001b[38;5;241m=\u001b[39m transform_data(cleaned_rdd)\n",
      "Cell \u001b[0;32mIn[7], line 18\u001b[0m, in \u001b[0;36mload_data\u001b[0;34m(file_path, file_format)\u001b[0m\n\u001b[1;32m     16\u001b[0m \u001b[38;5;28;01mdef\u001b[39;00m\u001b[38;5;250m \u001b[39m\u001b[38;5;21mload_data\u001b[39m(file_path, file_format) :\n\u001b[1;32m     17\u001b[0m     \u001b[38;5;28;01mif\u001b[39;00m file_format \u001b[38;5;241m==\u001b[39m \u001b[38;5;124m\"\u001b[39m\u001b[38;5;124mparquet\u001b[39m\u001b[38;5;124m\"\u001b[39m :\n\u001b[0;32m---> 18\u001b[0m         raw_df \u001b[38;5;241m=\u001b[39m \u001b[43mspark\u001b[49m\u001b[38;5;241;43m.\u001b[39;49m\u001b[43mread\u001b[49m\u001b[38;5;241;43m.\u001b[39;49m\u001b[43mparquet\u001b[49m\u001b[43m(\u001b[49m\u001b[43mfile_path\u001b[49m\u001b[43m)\u001b[49m\n\u001b[1;32m     19\u001b[0m         raw_rdd \u001b[38;5;241m=\u001b[39m raw_df\u001b[38;5;241m.\u001b[39mrdd\n\u001b[1;32m     20\u001b[0m     \u001b[38;5;66;03m# 데이터프레임 타입 에러 확인\u001b[39;00m\n",
      "File \u001b[0;32m~/spark/python/pyspark/sql/readwriter.py:544\u001b[0m, in \u001b[0;36mDataFrameReader.parquet\u001b[0;34m(self, *paths, **options)\u001b[0m\n\u001b[1;32m    533\u001b[0m int96RebaseMode \u001b[38;5;241m=\u001b[39m options\u001b[38;5;241m.\u001b[39mget(\u001b[38;5;124m\"\u001b[39m\u001b[38;5;124mint96RebaseMode\u001b[39m\u001b[38;5;124m\"\u001b[39m, \u001b[38;5;28;01mNone\u001b[39;00m)\n\u001b[1;32m    534\u001b[0m \u001b[38;5;28mself\u001b[39m\u001b[38;5;241m.\u001b[39m_set_opts(\n\u001b[1;32m    535\u001b[0m     mergeSchema\u001b[38;5;241m=\u001b[39mmergeSchema,\n\u001b[1;32m    536\u001b[0m     pathGlobFilter\u001b[38;5;241m=\u001b[39mpathGlobFilter,\n\u001b[0;32m   (...)\u001b[0m\n\u001b[1;32m    541\u001b[0m     int96RebaseMode\u001b[38;5;241m=\u001b[39mint96RebaseMode,\n\u001b[1;32m    542\u001b[0m )\n\u001b[0;32m--> 544\u001b[0m \u001b[38;5;28;01mreturn\u001b[39;00m \u001b[38;5;28mself\u001b[39m\u001b[38;5;241m.\u001b[39m_df(\u001b[38;5;28;43mself\u001b[39;49m\u001b[38;5;241;43m.\u001b[39;49m\u001b[43m_jreader\u001b[49m\u001b[38;5;241;43m.\u001b[39;49m\u001b[43mparquet\u001b[49m\u001b[43m(\u001b[49m\u001b[43m_to_seq\u001b[49m\u001b[43m(\u001b[49m\u001b[38;5;28;43mself\u001b[39;49m\u001b[38;5;241;43m.\u001b[39;49m\u001b[43m_spark\u001b[49m\u001b[38;5;241;43m.\u001b[39;49m\u001b[43m_sc\u001b[49m\u001b[43m,\u001b[49m\u001b[43m \u001b[49m\u001b[43mpaths\u001b[49m\u001b[43m)\u001b[49m\u001b[43m)\u001b[49m)\n",
      "File \u001b[0;32m~/spark/python/lib/py4j-0.10.9.7-src.zip/py4j/java_gateway.py:1322\u001b[0m, in \u001b[0;36mJavaMember.__call__\u001b[0;34m(self, *args)\u001b[0m\n\u001b[1;32m   1316\u001b[0m command \u001b[38;5;241m=\u001b[39m proto\u001b[38;5;241m.\u001b[39mCALL_COMMAND_NAME \u001b[38;5;241m+\u001b[39m\\\n\u001b[1;32m   1317\u001b[0m     \u001b[38;5;28mself\u001b[39m\u001b[38;5;241m.\u001b[39mcommand_header \u001b[38;5;241m+\u001b[39m\\\n\u001b[1;32m   1318\u001b[0m     args_command \u001b[38;5;241m+\u001b[39m\\\n\u001b[1;32m   1319\u001b[0m     proto\u001b[38;5;241m.\u001b[39mEND_COMMAND_PART\n\u001b[1;32m   1321\u001b[0m answer \u001b[38;5;241m=\u001b[39m \u001b[38;5;28mself\u001b[39m\u001b[38;5;241m.\u001b[39mgateway_client\u001b[38;5;241m.\u001b[39msend_command(command)\n\u001b[0;32m-> 1322\u001b[0m return_value \u001b[38;5;241m=\u001b[39m \u001b[43mget_return_value\u001b[49m\u001b[43m(\u001b[49m\n\u001b[1;32m   1323\u001b[0m \u001b[43m    \u001b[49m\u001b[43manswer\u001b[49m\u001b[43m,\u001b[49m\u001b[43m \u001b[49m\u001b[38;5;28;43mself\u001b[39;49m\u001b[38;5;241;43m.\u001b[39;49m\u001b[43mgateway_client\u001b[49m\u001b[43m,\u001b[49m\u001b[43m \u001b[49m\u001b[38;5;28;43mself\u001b[39;49m\u001b[38;5;241;43m.\u001b[39;49m\u001b[43mtarget_id\u001b[49m\u001b[43m,\u001b[49m\u001b[43m \u001b[49m\u001b[38;5;28;43mself\u001b[39;49m\u001b[38;5;241;43m.\u001b[39;49m\u001b[43mname\u001b[49m\u001b[43m)\u001b[49m\n\u001b[1;32m   1325\u001b[0m \u001b[38;5;28;01mfor\u001b[39;00m temp_arg \u001b[38;5;129;01min\u001b[39;00m temp_args:\n\u001b[1;32m   1326\u001b[0m     \u001b[38;5;28;01mif\u001b[39;00m \u001b[38;5;28mhasattr\u001b[39m(temp_arg, \u001b[38;5;124m\"\u001b[39m\u001b[38;5;124m_detach\u001b[39m\u001b[38;5;124m\"\u001b[39m):\n",
      "File \u001b[0;32m~/spark/python/pyspark/errors/exceptions/captured.py:185\u001b[0m, in \u001b[0;36mcapture_sql_exception.<locals>.deco\u001b[0;34m(*a, **kw)\u001b[0m\n\u001b[1;32m    181\u001b[0m converted \u001b[38;5;241m=\u001b[39m convert_exception(e\u001b[38;5;241m.\u001b[39mjava_exception)\n\u001b[1;32m    182\u001b[0m \u001b[38;5;28;01mif\u001b[39;00m \u001b[38;5;129;01mnot\u001b[39;00m \u001b[38;5;28misinstance\u001b[39m(converted, UnknownException):\n\u001b[1;32m    183\u001b[0m     \u001b[38;5;66;03m# Hide where the exception came from that shows a non-Pythonic\u001b[39;00m\n\u001b[1;32m    184\u001b[0m     \u001b[38;5;66;03m# JVM exception message.\u001b[39;00m\n\u001b[0;32m--> 185\u001b[0m     \u001b[38;5;28;01mraise\u001b[39;00m converted \u001b[38;5;28;01mfrom\u001b[39;00m\u001b[38;5;250m \u001b[39m\u001b[38;5;28;01mNone\u001b[39;00m\n\u001b[1;32m    186\u001b[0m \u001b[38;5;28;01melse\u001b[39;00m:\n\u001b[1;32m    187\u001b[0m     \u001b[38;5;28;01mraise\u001b[39;00m\n",
      "\u001b[0;31mAnalysisException\u001b[0m: [PATH_NOT_FOUND] Path does not exist: file:/Users/admin/Desktop/GitHub/softeer/과제/W5/NYC_TLC_Trip_Data/yellow_tripdata_2022-01.parquet."
     ]
    }
   ],
   "source": [
    "from pyspark import SparkContext, SparkConf\n",
    "from io import StringIO\n",
    "from pyspark.sql import SparkSession\n",
    "import shutil\n",
    "import os\n",
    "\n",
    "# conf = SparkConf().setAppName(\"NYC_TAXI_Analysis\").setMaster(\"local[*]\")\n",
    "# sc = SparkContext(conf=conf)\n",
    "\n",
    "# def load_data(file_path, file_format) :\n",
    "#     if file_format == \"parquet\" :\n",
    "#         raw_rdd = sc.textFile(file_path)\n",
    "\n",
    "spark = SparkSession.builder.appName(\"NYC_Taxi_Analysis\").config(\"spark.driver.bindAddress\", \"127.0.0.1\").getOrCreate()\n",
    "\n",
    "def load_data(file_path, file_format) :\n",
    "    if file_format == \"parquet\" :\n",
    "        raw_df = spark.read.parquet(file_path)\n",
    "        raw_rdd = raw_df.rdd\n",
    "    # 데이터프레임 타입 에러 확인\n",
    "    return raw_rdd\n",
    "\n",
    "def clean_data(rdd) :\n",
    "    rdd = rdd.filter(lambda row: row.tpep_pickup_datetime is not None)\n",
    "    rdd = rdd.filter(lambda row: row.total_amount is not None)\n",
    "    rdd = rdd.filter(lambda row: row.trip_distance is not None)\n",
    "    return rdd\n",
    "\n",
    "def transform_data(rdd) :\n",
    "    return rdd.map(lambda row: (row.tpep_pickup_datetime.strftime('%Y-%m-%d'), float(row.total_amount), float(row.trip_distance)))\n",
    "\n",
    "def aggreagate_data(rdd) :\n",
    "    # total_trips = rdd.count()\n",
    "    # total_revenue = rdd.map(lambda x : x[1]).sum()\n",
    "    # avg_trip_distance = rdd.map(lambda x : x[2]).mean()\n",
    "    total_trips, total_revenue, total_trip_distance = rdd.aggregate(\n",
    "        (0, 0.0, 0.0),\n",
    "        lambda acc, x : (acc[0] + 1, acc[1] + x[1], acc[2] + acc[2]),\n",
    "        lambda acc1, acc2 : (acc1[0] + acc2[0], acc1[1] + acc2[1] , acc1[2] + acc2[2])\n",
    "        )\n",
    "    \n",
    "    avg_trip_distance = total_trip_distance / total_revenue\n",
    "\n",
    "    daily_trips = rdd.map(lambda x : (x[0],1)).reduceByKey(lambda a, b : a + b).collect()\n",
    "    daily_revenue = rdd.map(lambda x : (x[0],x[1])).reduceByKey(lambda a, b : a + b).collect()\n",
    "    return total_trips, total_revenue, avg_trip_distance, daily_trips, daily_revenue\n",
    "\n",
    "def print_results(results) :\n",
    "    total_trips, total_revenue, avg_trip_distance, daily_trips, daily_revenue = results\n",
    "    print(\"Total trips :\", total_trips)\n",
    "    print(\"Total Revenue :\", total_revenue)\n",
    "    print(\"Average Trip Distance :\", avg_trip_distance)\n",
    "\n",
    "def save_results(results, output_path) :\n",
    "    if os.path.exists(output_path) :\n",
    "        shutil.rmtree(output_path)\n",
    "\n",
    "    total_trips, total_revenue, avg_trip_distance, daily_trips, daily_revenue = results\n",
    "    total_df = spark.createDataFrame([\n",
    "        (\"Total Trips\", total_trips),\n",
    "        (\"Total Revenue\", total_revenue),\n",
    "        (\"Average Trip Distance\", avg_trip_distance)\n",
    "    ], [\"Metric\", \"Value\"])\n",
    "\n",
    "    trips_df = spark.createDataFrame(daily_trips, [\"Date\", \"Trips\"])\n",
    "    revenue_df = spark.createDataFrame(daily_revenue, [\"Date\", \"Revenue\"])\n",
    "\n",
    "    daily_df = trips_df.join(revenue_df, on=\"Date\", how=\"inner\")\n",
    "\n",
    "    total_df.coalesce(1).write.csv(f\"{output_path}/total_results.csv\", mode=\"overwrite\", header=True)\n",
    "    daily_df.coalesce(1).write.csv(f\"{output_path}/daily_results.csv\", mode=\"overwrite\", header=True)\n",
    "\n",
    "\n",
    "if __name__ == \"__main__\" :\n",
    "    raw_rdd = load_data(\"./NYC_TLC_Trip_Data/yellow_tripdata_2022-01.parquet\", \"parquet\")\n",
    "    cleaned_rdd = clean_data(raw_rdd)\n",
    "    transformed_rdd = transform_data(cleaned_rdd)\n",
    "    results = aggreagate_data(transformed_rdd)\n",
    "    print_results(results)\n",
    "    save_results(results, \"./output\")"
   ]
  },
  {
   "cell_type": "code",
   "execution_count": 8,
   "id": "531b48cb-9bca-4858-888c-1299e304dbe5",
   "metadata": {},
   "outputs": [],
   "source": [
    "spark.stop()"
   ]
  },
  {
   "cell_type": "code",
   "execution_count": null,
   "id": "a132ada0-11bd-4f48-8643-5883286da0ad",
   "metadata": {},
   "outputs": [],
   "source": []
  }
 ],
 "metadata": {
  "kernelspec": {
   "display_name": "Python 3.9 (System)",
   "language": "python",
   "name": "python3"
  },
  "language_info": {
   "codemirror_mode": {
    "name": "ipython",
    "version": 3
   },
   "file_extension": ".py",
   "mimetype": "text/x-python",
   "name": "python",
   "nbconvert_exporter": "python",
   "pygments_lexer": "ipython3",
   "version": "3.9.6"
  }
 },
 "nbformat": 4,
 "nbformat_minor": 5
}
