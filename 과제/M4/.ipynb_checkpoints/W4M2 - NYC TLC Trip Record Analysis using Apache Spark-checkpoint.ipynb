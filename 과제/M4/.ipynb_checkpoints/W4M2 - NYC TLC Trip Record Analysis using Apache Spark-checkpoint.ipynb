{
 "cells": [
  {
   "cell_type": "markdown",
   "id": "bada5696-1b4e-4f21-93bc-ddb99a6bcba8",
   "metadata": {},
   "source": [
    "# W4M2 - NYC TLC Trip Record Analysis using Apache Spark"
   ]
  },
  {
   "cell_type": "code",
   "execution_count": 8,
   "id": "58110cc1-c52d-4aaa-bd8a-b4c3481ec3f4",
   "metadata": {},
   "outputs": [
    {
     "name": "stdout",
     "output_type": "stream",
     "text": [
      "The history saving thread hit an unexpected error (OperationalError('attempt to write a readonly database')).History will not be written to the database.\n"
     ]
    }
   ],
   "source": [
    "# 필요 패키지 import\n",
    "from pyspark.sql import SparkSession\n",
    "import pyspark.sql.functions as F\n",
    "import pyspark.sql.types as T\n",
    "import os"
   ]
  },
  {
   "cell_type": "markdown",
   "id": "0568bbf1-0cbe-49fb-b044-51df53eb20e6",
   "metadata": {},
   "source": [
    "## Data Ingestion:\n",
    "\n",
    "The application should be able to ingest multiple months or years of data efficiently.\n",
    "Handle different file formats such as CSV, Parquet, etc."
   ]
  },
  {
   "cell_type": "code",
   "execution_count": 2,
   "id": "3b549e21-7bff-4c4b-9e21-2b9e61ac8113",
   "metadata": {},
   "outputs": [
    {
     "name": "stderr",
     "output_type": "stream",
     "text": [
      "25/01/30 16:11:58 WARN SparkSession: Using an existing Spark session; only runtime SQL configurations will take effect.\n",
      "                                                                                "
     ]
    },
    {
     "name": "stdout",
     "output_type": "stream",
     "text": [
      "+--------+--------------------+---------------------+---------------+-------------+----------+------------------+------------+------------+------------+-----------+-----+-------+----------+------------+---------------------+------------+--------------------+-----------+\n",
      "|VendorID|tpep_pickup_datetime|tpep_dropoff_datetime|passenger_count|trip_distance|RatecodeID|store_and_fwd_flag|PULocationID|DOLocationID|payment_type|fare_amount|extra|mta_tax|tip_amount|tolls_amount|improvement_surcharge|total_amount|congestion_surcharge|Airport_fee|\n",
      "+--------+--------------------+---------------------+---------------+-------------+----------+------------------+------------+------------+------------+-----------+-----+-------+----------+------------+---------------------+------------+--------------------+-----------+\n",
      "|       1| 2023-06-01 00:08:48|  2023-06-01 00:29:41|              1|          3.4|         1|                 N|         140|         238|           1|       21.9|  3.5|    0.5|       6.7|         0.0|                  1.0|        33.6|                 2.5|        0.0|\n",
      "|       1| 2023-06-01 00:15:04|  2023-06-01 00:25:18|              0|          3.4|         1|                 N|          50|         151|           1|       15.6|  3.5|    0.5|       3.0|         0.0|                  1.0|        23.6|                 2.5|        0.0|\n",
      "|       1| 2023-06-01 00:48:24|  2023-06-01 01:07:07|              1|         10.2|         1|                 N|         138|          97|           1|       40.8| 7.75|    0.5|      10.0|         0.0|                  1.0|       60.05|                 0.0|       1.75|\n",
      "|       2| 2023-06-01 00:54:03|  2023-06-01 01:17:29|              3|         9.83|         1|                 N|         100|         244|           1|       39.4|  1.0|    0.5|      8.88|         0.0|                  1.0|       53.28|                 2.5|        0.0|\n",
      "|       2| 2023-06-01 00:18:44|  2023-06-01 00:27:18|              1|         1.17|         1|                 N|         137|         234|           1|        9.3|  1.0|    0.5|      0.72|         0.0|                  1.0|       15.02|                 2.5|        0.0|\n",
      "+--------+--------------------+---------------------+---------------+-------------+----------+------------------+------------+------------+------------+-----------+-----+-------+----------+------------+---------------------+------------+--------------------+-----------+\n",
      "only showing top 5 rows\n",
      "\n"
     ]
    }
   ],
   "source": [
    "# 1️⃣ Spark 세션 생성\n",
    "spark = SparkSession.builder.appName(\"Yellow_Taxi_Anlaysis\").config(\"spark.driver.bindAddress\", \"127.0.0.1\").getOrCreate()\n",
    "\n",
    "# 2️⃣ 모든 .parquet 파일 경로 자동으로 불러오기\n",
    "directory_path = \"/Users/admin/Desktop/GitHub/softeer/과제/M4/NYC_TLC_Trip_Data/\"\n",
    "file_paths = [os.path.join(directory_path, f) for f in os.listdir(directory_path) if f.endswith(\".parquet\")]\n",
    "\n",
    "# 3️⃣ 모든 파일에 대해 형변환 처리 및 병합\n",
    "df_list = []\n",
    "\n",
    "for file_path in file_paths:\n",
    "    # 4️⃣ 각 파일 읽기\n",
    "    df = spark.read.parquet(file_path)\n",
    "    \n",
    "    # 5️⃣ 형변환 (필요한 컬럼에 대해)\n",
    "    df = df.withColumn(\"VendorID\", F.col(\"VendorID\").cast(T.LongType())) \\\n",
    "           .withColumn(\"PULocationID\", F.col(\"PULocationID\").cast(T.LongType())) \\\n",
    "           .withColumn(\"DOLocationID\", F.col(\"DOLocationID\").cast(T.LongType())) \\\n",
    "           .withColumn(\"passenger_count\", F.col(\"passenger_count\").cast(T.LongType())) \\\n",
    "           .withColumn(\"RatecodeID\", F.col(\"RatecodeID\").cast(T.LongType()))\n",
    "    \n",
    "    # 6️⃣ 변환된 DataFrame 리스트에 추가\n",
    "    df_list.append(df)\n",
    "\n",
    "# 7️⃣ 병합된 DataFrame 생성\n",
    "final_df = df_list[0]\n",
    "for df in df_list[1:]:\n",
    "    final_df = final_df.union(df)\n",
    "\n",
    "# 8️⃣ 결과 출력 (상위 5개 행)\n",
    "final_df.show(5)\n",
    "\n",
    "# 9️⃣ 필요시 저장\n",
    "# final_df.write.parquet(\"/path/to/save/final_output.parquet\")"
   ]
  },
  {
   "cell_type": "code",
   "execution_count": 3,
   "id": "09cfc64c-8757-4cba-a60a-b101ef50862a",
   "metadata": {},
   "outputs": [
    {
     "name": "stdout",
     "output_type": "stream",
     "text": [
      "행 : 111633902, 열 : 19\n"
     ]
    },
    {
     "name": "stderr",
     "output_type": "stream",
     "text": [
      "                                                                                "
     ]
    }
   ],
   "source": [
    "# 데이터셋 크기\n",
    "print(f\"행 : {final_df.count()}, 열 : {len(final_df.columns)}\")"
   ]
  },
  {
   "cell_type": "code",
   "execution_count": 4,
   "id": "e70f57e0-929a-4a51-8800-a81edeca208f",
   "metadata": {},
   "outputs": [
    {
     "name": "stdout",
     "output_type": "stream",
     "text": [
      "root\n",
      " |-- VendorID: long (nullable = true)\n",
      " |-- tpep_pickup_datetime: timestamp_ntz (nullable = true)\n",
      " |-- tpep_dropoff_datetime: timestamp_ntz (nullable = true)\n",
      " |-- passenger_count: long (nullable = true)\n",
      " |-- trip_distance: double (nullable = true)\n",
      " |-- RatecodeID: long (nullable = true)\n",
      " |-- store_and_fwd_flag: string (nullable = true)\n",
      " |-- PULocationID: long (nullable = true)\n",
      " |-- DOLocationID: long (nullable = true)\n",
      " |-- payment_type: long (nullable = true)\n",
      " |-- fare_amount: double (nullable = true)\n",
      " |-- extra: double (nullable = true)\n",
      " |-- mta_tax: double (nullable = true)\n",
      " |-- tip_amount: double (nullable = true)\n",
      " |-- tolls_amount: double (nullable = true)\n",
      " |-- improvement_surcharge: double (nullable = true)\n",
      " |-- total_amount: double (nullable = true)\n",
      " |-- congestion_surcharge: double (nullable = true)\n",
      " |-- Airport_fee: double (nullable = true)\n",
      "\n"
     ]
    }
   ],
   "source": [
    "final_df.printSchema()"
   ]
  },
  {
   "cell_type": "markdown",
   "id": "e09b34ed-b910-4857-aa98-2a99de2f6231",
   "metadata": {},
   "source": [
    "### NYC TLC 데이터 컬럼 설명\n",
    "\n",
    "#### 기본 정보\n",
    "- **VendorID** : 데이터를 제공한 택시 업체 ID (예: 1 또는 2).\n",
    "- **tpep_pickup_datetime** : 택시가 승객을 태운 (픽업) 날짜와 시간 (YYYY-MM-DD HH:MM:SS).\n",
    "- **tpep_dropoff_datetime** : 택시가 승객을 내린 (드롭오프) 날짜와 시간.\n",
    "- **passenger_count** : 승객 수 (수동 입력, 정확하지 않을 수 있음).\n",
    "- **trip_distance** : 이동 거리 (마일 단위).\n",
    "\n",
    "#### 요금 및 결제 정보\n",
    "- **RatecodeID** : 요금 코드 (요금 유형을 나타냄).\n",
    "  - `1` : Standard rate (일반 요금)\n",
    "  - `2` : JFK (JFK 공항 요금)\n",
    "  - `3` : Newark (뉴어크 공항 요금)\n",
    "  - `4` : Nassau or Westchester (롱아일랜드 또는 웨스트체스터 요금)\n",
    "  - `5` : Negotiated fare (협상된 요금)\n",
    "  - `6` : Group ride (단체 요금)\n",
    "- **payment_type** : 결제 방식 (숫자로 구분됨).\n",
    "  - `1` : Credit card (신용카드)\n",
    "  - `2` : Cash (현금)\n",
    "  - `3` : No charge (무료)\n",
    "  - `4` : Dispute (요금 분쟁)\n",
    "  - `5` : Unknown (알 수 없음)\n",
    "  - `6` : Voided trip (취소된 운행)\n",
    "\n",
    "- **fare_amount** : 순수 택시 요금 (팁, 세금, 추가 요금 제외).\n",
    "  \n",
    "- **extra** : 추가 요금 (예: 야간 운행 추가 요금).\n",
    "  \n",
    "- **mta_tax** : 뉴욕시 MTA(메트로폴리탄 교통국) 세금 ($0.50).\n",
    "  \n",
    "- **tip_amount** : 승객이 지불한 팁 (현금 결제 시 0일 가능).\n",
    "  \n",
    "- **tolls_amount** : 톨게이트(통행료) 비용.\n",
    "  \n",
    "- **improvement_surcharge** : NYC에서 부과하는 추가 요금 ($0.30).\n",
    "  \n",
    "- **total_amount** : 최종 결제된 총 금액 (모든 요금 포함).\n",
    "  \n",
    "- **congestion_surcharge** : NYC 혼잡세 ($2.50, 특정 지역 및 시간대 적용).\n",
    "\n",
    "- **Airport_fee** : 공항 요금 (해당되는 경우 추가됨).\n",
    "\n",
    "#### 위치 및 기타 정보\n",
    "- **store_and_fwd_flag** : 데이터가 즉시 전송되었는지 여부.\n",
    "  - `'Y'` : 나중에 전송됨\n",
    "  - `'N'` : 실시간 전송됨\n",
    "- **PULocationID** : 픽업 위치의 지역 코드 (NYC 내 특정 지역을 나타내는 ID).\n",
    "- **DOLocationID** : 드롭오프 위치의 지역 코드.\n",
    "\n",
    "\n"
   ]
  },
  {
   "cell_type": "markdown",
   "id": "394d4e55-72e4-49b5-8266-491b97fd69fe",
   "metadata": {},
   "source": [
    "## Data Cleaning and Transformation:\n",
    "\n",
    "Handle missing values by either removing or imputing them.</br>\n",
    "Convert all relevant time fields to a standard timestamp format.</br>\n",
    "Filter out records with non-sensical values (e.g., negative trip duration or distance)</br>"
   ]
  },
  {
   "cell_type": "code",
   "execution_count": 5,
   "id": "18ce44d2-3ffc-433d-8c06-6aa785de05a4",
   "metadata": {},
   "outputs": [
    {
     "name": "stderr",
     "output_type": "stream",
     "text": [
      "                                                                                "
     ]
    },
    {
     "data": {
      "text/html": [
       "<div>\n",
       "<style scoped>\n",
       "    .dataframe tbody tr th:only-of-type {\n",
       "        vertical-align: middle;\n",
       "    }\n",
       "\n",
       "    .dataframe tbody tr th {\n",
       "        vertical-align: top;\n",
       "    }\n",
       "\n",
       "    .dataframe thead th {\n",
       "        text-align: right;\n",
       "    }\n",
       "</style>\n",
       "<table border=\"1\" class=\"dataframe\">\n",
       "  <thead>\n",
       "    <tr style=\"text-align: right;\">\n",
       "      <th></th>\n",
       "      <th>VendorID</th>\n",
       "      <th>tpep_pickup_datetime</th>\n",
       "      <th>tpep_dropoff_datetime</th>\n",
       "      <th>passenger_count</th>\n",
       "      <th>trip_distance</th>\n",
       "      <th>RatecodeID</th>\n",
       "      <th>store_and_fwd_flag</th>\n",
       "      <th>PULocationID</th>\n",
       "      <th>DOLocationID</th>\n",
       "      <th>payment_type</th>\n",
       "      <th>fare_amount</th>\n",
       "      <th>extra</th>\n",
       "      <th>mta_tax</th>\n",
       "      <th>tip_amount</th>\n",
       "      <th>tolls_amount</th>\n",
       "      <th>improvement_surcharge</th>\n",
       "      <th>total_amount</th>\n",
       "      <th>congestion_surcharge</th>\n",
       "      <th>Airport_fee</th>\n",
       "    </tr>\n",
       "  </thead>\n",
       "  <tbody>\n",
       "    <tr>\n",
       "      <th>0</th>\n",
       "      <td>0</td>\n",
       "      <td>0</td>\n",
       "      <td>0</td>\n",
       "      <td>6048705</td>\n",
       "      <td>0</td>\n",
       "      <td>6048705</td>\n",
       "      <td>6048705</td>\n",
       "      <td>0</td>\n",
       "      <td>0</td>\n",
       "      <td>0</td>\n",
       "      <td>0</td>\n",
       "      <td>0</td>\n",
       "      <td>0</td>\n",
       "      <td>0</td>\n",
       "      <td>0</td>\n",
       "      <td>0</td>\n",
       "      <td>0</td>\n",
       "      <td>6048705</td>\n",
       "      <td>6048705</td>\n",
       "    </tr>\n",
       "  </tbody>\n",
       "</table>\n",
       "</div>"
      ],
      "text/plain": [
       "   VendorID  tpep_pickup_datetime  tpep_dropoff_datetime  passenger_count  \\\n",
       "0         0                     0                      0          6048705   \n",
       "\n",
       "   trip_distance  RatecodeID  store_and_fwd_flag  PULocationID  DOLocationID  \\\n",
       "0              0     6048705             6048705             0             0   \n",
       "\n",
       "   payment_type  fare_amount  extra  mta_tax  tip_amount  tolls_amount  \\\n",
       "0             0            0      0        0           0             0   \n",
       "\n",
       "   improvement_surcharge  total_amount  congestion_surcharge  Airport_fee  \n",
       "0                      0             0               6048705      6048705  "
      ]
     },
     "execution_count": 5,
     "metadata": {},
     "output_type": "execute_result"
    }
   ],
   "source": [
    "# 각 컬럼별 NULL 값 개수 확인\n",
    "null_counts_df = final_df.select(\n",
    "    [F.sum(F.col(c).isNull().cast(\"int\")).alias(c) for c in final_df.columns]\n",
    ")\n",
    "\n",
    "# Pandas로 변환하여 출력\n",
    "null_counts_pd = null_counts_df.toPandas()\n",
    "null_counts_pd"
   ]
  },
  {
   "cell_type": "markdown",
   "id": "9e12da34-5f5d-446e-8383-1a80f0183682",
   "metadata": {},
   "source": [
    "#### **확인 결과 결측치는 다음 열에서 관측된다.**\n",
    "\n",
    "passenger_count : 6048705개</br>\n",
    "RatecodeID : 6048705개</br>\n",
    "store_and_fwd_flag : 6048705개</br>\n",
    "congestion_surcharge : 6048705개</br>\n",
    "Airport_fee : 6048705개\n",
    "\n",
    "데이터를 최대화하기 위해서 imputation은 다음과 같이 진행하였다.\n",
    "\n",
    "\"passenger_count\" -> 1</br>\n",
    "일반적으로 승객이 1명인 경우가 가장 많을 것이라고 판단.</br>\n",
    "\"RatecodeID\" -> 1</br>\n",
    "일반 요금을 내는 경우가 보통일 것이라고 판단.</br>\n",
    "\"store_and_fwd_flag\" -> 'N'</br>\n",
    "실시간으로 보냈을 것으로 가정</br>\n",
    "\"congestion_surcharge\" -> 0</br>\n",
    "추가 요금이 발생하지 않았기 때문에 결측치가 나온 것이라고 판단.</br>\n",
    "\"Airport_fee\" -> 0</br>\n",
    "공항에 가지 않았기에 공항 요금의 결측치가 나온 것이라고 판단.</br>"
   ]
  },
  {
   "cell_type": "code",
   "execution_count": 6,
   "id": "e456f1f5-34d9-43fb-aeb4-9f176a2422ad",
   "metadata": {},
   "outputs": [
    {
     "name": "stderr",
     "output_type": "stream",
     "text": [
      "[Stage 42:=====================================================>(338 + 2) / 340]"
     ]
    },
    {
     "name": "stdout",
     "output_type": "stream",
     "text": [
      "+--------+--------------------+---------------------+---------------+-------------+----------+------------------+------------+------------+------------+-----------+-----+-------+----------+------------+---------------------+------------+--------------------+-----------+\n",
      "|VendorID|tpep_pickup_datetime|tpep_dropoff_datetime|passenger_count|trip_distance|RatecodeID|store_and_fwd_flag|PULocationID|DOLocationID|payment_type|fare_amount|extra|mta_tax|tip_amount|tolls_amount|improvement_surcharge|total_amount|congestion_surcharge|Airport_fee|\n",
      "+--------+--------------------+---------------------+---------------+-------------+----------+------------------+------------+------------+------------+-----------+-----+-------+----------+------------+---------------------+------------+--------------------+-----------+\n",
      "|       0|                   0|                    0|              0|            0|         0|                 0|           0|           0|           0|          0|    0|      0|         0|           0|                    0|           0|                   0|          0|\n",
      "+--------+--------------------+---------------------+---------------+-------------+----------+------------------+------------+------------+------------+-----------+-----+-------+----------+------------+---------------------+------------+--------------------+-----------+\n",
      "\n"
     ]
    },
    {
     "name": "stderr",
     "output_type": "stream",
     "text": [
      "                                                                                "
     ]
    }
   ],
   "source": [
    "# 결측치 채우기\n",
    "final_df = final_df.fillna({\n",
    "    \"passenger_count\": 1,\n",
    "    \"RatecodeID\": 1,\n",
    "    \"store_and_fwd_flag\": 'N',\n",
    "    \"congestion_surcharge\": 0,\n",
    "    \"Airport_fee\": 0\n",
    "})\n",
    "\n",
    "# 결과 확인\n",
    "final_df.select([F.sum(F.col(c).isNull().cast(\"int\")).alias(c) for c in final_df.columns]).show()"
   ]
  },
  {
   "cell_type": "markdown",
   "id": "058e3d26-d797-4913-96f8-adc7ac5bf60c",
   "metadata": {},
   "source": [
    "#### **timestamp**\n",
    "\n",
    "현재 'tpep_dropoff_datetime'열과 'tpep_pickup_datetime'의 자료형은 timestamp_ntz로서 뉴욕의 로컬 시간을 담고 있다. 만약 이를 일반적인 timestamp로 변경하게 되면, 국제 표준 협정시로 보정이 되기에 peak Hours anlysis에서 올바르지 않은 분석 결과가 나올 수 있기에 timestamp_ntz를 유지하기로 결정하였다."
   ]
  },
  {
   "cell_type": "markdown",
   "id": "c7f5a9f6-9c0b-4002-9ab0-40f36f3d5fd9",
   "metadata": {},
   "source": [
    "#### **Outlier cleansing**"
   ]
  },
  {
   "cell_type": "code",
   "execution_count": 7,
   "id": "7cd4a803-9a70-48dd-b506-7020542144cc",
   "metadata": {},
   "outputs": [
    {
     "name": "stderr",
     "output_type": "stream",
     "text": [
      "[Stage 45:=====================================================>(338 + 2) / 340]"
     ]
    },
    {
     "name": "stdout",
     "output_type": "stream",
     "text": [
      "+--------+--------------------+---------------------+---------------+-------------+----------+------------------+------------+------------+------------+-----------+-----+-------+----------+------------+---------------------+------------+--------------------+-----------+\n",
      "|VendorID|tpep_pickup_datetime|tpep_dropoff_datetime|passenger_count|trip_distance|RatecodeID|store_and_fwd_flag|PULocationID|DOLocationID|payment_type|fare_amount|extra|mta_tax|tip_amount|tolls_amount|improvement_surcharge|total_amount|congestion_surcharge|Airport_fee|\n",
      "+--------+--------------------+---------------------+---------------+-------------+----------+------------------+------------+------------+------------+-----------+-----+-------+----------+------------+---------------------+------------+--------------------+-----------+\n",
      "|       0|                   0|                    0|              0|            0|         0|                 0|           0|           0|           0|          0|    0|      0|         0|           0|                    0|           0|                   0|          0|\n",
      "+--------+--------------------+---------------------+---------------+-------------+----------+------------------+------------+------------+------------+-----------+-----+-------+----------+------------+---------------------+------------+--------------------+-----------+\n",
      "\n"
     ]
    },
    {
     "name": "stderr",
     "output_type": "stream",
     "text": [
      "                                                                                "
     ]
    }
   ],
   "source": [
    "# 이동 거리 필터링 (trip_distance가 0 이상인 경우만 남김)\n",
    "filtered_df = final_df.filter(F.col(\"trip_distance\") >= 0)\n",
    "\n",
    "# 이동 시간 필터링 (드롭오프 시간이 픽업 시간보다 늦어야 함)\n",
    "filtered_df = filtered_df.filter(\n",
    "    F.unix_timestamp(F.col(\"tpep_dropoff_datetime\")) >= F.unix_timestamp(F.col(\"tpep_pickup_datetime\"))\n",
    ")\n",
    "\n",
    "# 결과 확인\n",
    "filtered_df.select(\n",
    "    [F.sum(F.col(c).isNull().cast(\"int\")).alias(c) for c in filtered_df.columns]\n",
    ").show()"
   ]
  },
  {
   "cell_type": "markdown",
   "id": "2be4096c-0708-401f-aff9-199e8df32414",
   "metadata": {},
   "source": [
    "## Calculation of Metrics:\n",
    "Calculate the average trip duration.</br>\n",
    "Calculate the average trip distance."
   ]
  },
  {
   "cell_type": "code",
   "execution_count": 8,
   "id": "ffe38ffb-b7f2-46e4-91b3-5509e5d85e38",
   "metadata": {},
   "outputs": [
    {
     "name": "stderr",
     "output_type": "stream",
     "text": [
      "                                                                                "
     ]
    },
    {
     "name": "stdout",
     "output_type": "stream",
     "text": [
      "📌 평균 이동 시간: 1796.49 초\n",
      "📌 평균 이동 거리: 5.01 마일\n"
     ]
    }
   ],
   "source": [
    "from pyspark.sql.functions import col, mean, unix_timestamp\n",
    "\n",
    "# 이동 시간(trip_duration) 계산 (초 단위)\n",
    "final_df = final_df.withColumn(\"trip_duration\", \n",
    "                               unix_timestamp(col(\"tpep_dropoff_datetime\")) - unix_timestamp(col(\"tpep_pickup_datetime\")))\n",
    "\n",
    "# 평균 이동 시간(trip_duration) 계산\n",
    "avg_trip_duration = final_df.select(mean(col(\"trip_duration\"))).collect()[0][0]\n",
    "\n",
    "# 평균 이동 거리(trip_distance) 계산\n",
    "avg_trip_distance = final_df.select(mean(col(\"trip_distance\"))).collect()[0][0]\n",
    "\n",
    "# 결과 출력\n",
    "print(f\"📌 평균 이동 시간: {avg_trip_duration:.2f} 초\")\n",
    "print(f\"📌 평균 이동 거리: {avg_trip_distance:.2f} 마일\")"
   ]
  },
  {
   "cell_type": "markdown",
   "id": "3eaa6755-3bbc-425d-a6d5-2b35be205a68",
   "metadata": {},
   "source": [
    "### Peak Hours Analysis:\n",
    "Define \"peak hours\" based on the number of trips starting per hour.</br>\n",
    "Visualize the distribution of trips across different hours of the day.</br>\n",
    "Highlight the hours with the highest number of trips.</br>"
   ]
  },
  {
   "cell_type": "code",
   "execution_count": 36,
   "id": "878c4a43-145a-430d-92cf-3f2ddba50a91",
   "metadata": {},
   "outputs": [
    {
     "name": "stdout",
     "output_type": "stream",
     "text": [
      "+----+------+\n",
      "|hour| count|\n",
      "+----+------+\n",
      "|  18|245613|\n",
      "|  17|231847|\n",
      "|  19|220704|\n",
      "|  16|208982|\n",
      "|  15|207784|\n",
      "|  14|204305|\n",
      "|  20|195756|\n",
      "|  21|192359|\n",
      "|  13|187500|\n",
      "|  12|184374|\n",
      "|  22|176866|\n",
      "|  11|171108|\n",
      "|  10|156126|\n",
      "|   9|147971|\n",
      "|  23|142117|\n",
      "|   8|133000|\n",
      "|   7| 95787|\n",
      "|   0| 92798|\n",
      "|   1| 61074|\n",
      "|   6| 47759|\n",
      "+----+------+\n",
      "only showing top 20 rows\n",
      "\n"
     ]
    }
   ],
   "source": [
    "from pyspark.sql.functions import col, hour, dayofweek, to_timestamp\n",
    "\n",
    "# 시간 열 추출\n",
    "df = df.withColumn('hour', F.hour(F.col('tpep_pickup_datetime')))\n",
    "df = df.withColumn('date', F.date_format(F.col('tpep_pickup_datetime'), \"yyyy-MM-dd\"))\n",
    "\n",
    "# 피크 시간대 계산\n",
    "df.groupBy('hour').count().orderBy('count', ascending = False).show()"
   ]
  },
  {
   "cell_type": "markdown",
   "id": "6af7ee0d-ba5f-47a5-b273-ecc92d68b835",
   "metadata": {},
   "source": [
    "### Weather Condition Analysis:\n",
    "\n",
    "Correlate trip demand with weather conditions (e.g., temperature, precipitation).\n",
    "Present the findings on how different weather conditions affect the number of trips.\n",
    "Use statistical methods to validate the findings."
   ]
  },
  {
   "cell_type": "code",
   "execution_count": 69,
   "id": "1bac49e2-0ddc-46ca-ac6d-fd54ac479e27",
   "metadata": {},
   "outputs": [
    {
     "name": "stdout",
     "output_type": "stream",
     "text": [
      "root\n",
      " |-- time: string (nullable = true)\n",
      " |-- temperature_2m (°C): string (nullable = true)\n",
      " |-- precipitation (mm): string (nullable = true)\n",
      " |-- rain (mm): string (nullable = true)\n",
      " |-- weather_code (wmo code): string (nullable = true)\n",
      "\n",
      "+----------------+-------------------+------------------+---------+-----------------------+\n",
      "|            time|temperature_2m (°C)|precipitation (mm)|rain (mm)|weather_code (wmo code)|\n",
      "+----------------+-------------------+------------------+---------+-----------------------+\n",
      "|2022-01-01T00:00|                7.7|              0.00|     0.00|                      3|\n",
      "|2022-01-01T01:00|                7.8|              0.00|     0.00|                      3|\n",
      "|2022-01-01T02:00|                7.5|              0.00|     0.00|                      3|\n",
      "|2022-01-01T03:00|                7.4|              0.10|     0.10|                     51|\n",
      "|2022-01-01T04:00|                7.6|              0.10|     0.10|                     51|\n",
      "|2022-01-01T05:00|                8.2|              1.10|     1.10|                     55|\n",
      "|2022-01-01T06:00|                8.4|              1.10|     1.10|                     55|\n",
      "|2022-01-01T07:00|                8.0|              0.50|     0.50|                     53|\n",
      "|2022-01-01T08:00|                9.1|              0.70|     0.70|                     53|\n",
      "|2022-01-01T09:00|                9.6|              0.70|     0.70|                     53|\n",
      "|2022-01-01T10:00|                9.9|              0.80|     0.80|                     53|\n",
      "|2022-01-01T11:00|               11.0|              0.50|     0.50|                     53|\n",
      "|2022-01-01T12:00|               11.2|              0.60|     0.60|                     53|\n",
      "|2022-01-01T13:00|               11.4|              0.80|     0.80|                     53|\n",
      "|2022-01-01T14:00|               11.6|              0.40|     0.40|                     51|\n",
      "|2022-01-01T15:00|               11.4|              0.10|     0.10|                     51|\n",
      "|2022-01-01T16:00|               10.9|              0.30|     0.30|                     51|\n",
      "|2022-01-01T17:00|               10.3|              1.40|     1.40|                     61|\n",
      "|2022-01-01T18:00|               10.1|              0.80|     0.80|                     53|\n",
      "|2022-01-01T19:00|                9.3|              1.70|     1.70|                     61|\n",
      "+----------------+-------------------+------------------+---------+-----------------------+\n",
      "only showing top 20 rows\n",
      "\n"
     ]
    }
   ],
   "source": [
    "file_path = \"/Users/admin/Desktop/GitHub/softeer/과제/M4/NewYork_weather.csv\"\n",
    "\n",
    "df_weather = spark.read.option(\"header\", True).csv(file_path)\n",
    "\n",
    "df_weather.printSchema()\n",
    "\n",
    "df_weather.show()"
   ]
  },
  {
   "cell_type": "code",
   "execution_count": 70,
   "id": "3f9e9171-36f3-407e-b546-3f44f603fb78",
   "metadata": {},
   "outputs": [
    {
     "name": "stdout",
     "output_type": "stream",
     "text": [
      "+----------------+-------------------+------------------+---------+------------------+\n",
      "|            time|temperature_2m (°C)|precipitation (mm)|rain (mm)| weather_condition|\n",
      "+----------------+-------------------+------------------+---------+------------------+\n",
      "|2022-01-01T00:00|                7.7|              0.00|     0.00|     Partly cloudy|\n",
      "|2022-01-01T01:00|                7.8|              0.00|     0.00|     Partly cloudy|\n",
      "|2022-01-01T02:00|                7.5|              0.00|     0.00|     Partly cloudy|\n",
      "|2022-01-01T03:00|                7.4|              0.10|     0.10|   Drizzle (light)|\n",
      "|2022-01-01T04:00|                7.6|              0.10|     0.10|   Drizzle (light)|\n",
      "|2022-01-01T05:00|                8.2|              1.10|     1.10|   Drizzle (heavy)|\n",
      "|2022-01-01T06:00|                8.4|              1.10|     1.10|   Drizzle (heavy)|\n",
      "|2022-01-01T07:00|                8.0|              0.50|     0.50|Drizzle (moderate)|\n",
      "|2022-01-01T08:00|                9.1|              0.70|     0.70|Drizzle (moderate)|\n",
      "|2022-01-01T09:00|                9.6|              0.70|     0.70|Drizzle (moderate)|\n",
      "|2022-01-01T10:00|                9.9|              0.80|     0.80|Drizzle (moderate)|\n",
      "|2022-01-01T11:00|               11.0|              0.50|     0.50|Drizzle (moderate)|\n",
      "|2022-01-01T12:00|               11.2|              0.60|     0.60|Drizzle (moderate)|\n",
      "|2022-01-01T13:00|               11.4|              0.80|     0.80|Drizzle (moderate)|\n",
      "|2022-01-01T14:00|               11.6|              0.40|     0.40|   Drizzle (light)|\n",
      "|2022-01-01T15:00|               11.4|              0.10|     0.10|   Drizzle (light)|\n",
      "|2022-01-01T16:00|               10.9|              0.30|     0.30|   Drizzle (light)|\n",
      "|2022-01-01T17:00|               10.3|              1.40|     1.40|     Rain (slight)|\n",
      "|2022-01-01T18:00|               10.1|              0.80|     0.80|Drizzle (moderate)|\n",
      "|2022-01-01T19:00|                9.3|              1.70|     1.70|     Rain (slight)|\n",
      "+----------------+-------------------+------------------+---------+------------------+\n",
      "only showing top 20 rows\n",
      "\n"
     ]
    }
   ],
   "source": [
    "# String -> String 변환을 위한 매핑 딕셔너리\n",
    "weather_mapping = {\n",
    "    \"0\": \"Clear sky\",\n",
    "    \"1\": \"Partly cloudy\", \"2\": \"Partly cloudy\", \"3\": \"Partly cloudy\",\n",
    "    \"45\": \"Fog\", \"48\": \"Fog\",\n",
    "    \"51\": \"Drizzle (light)\", \"53\": \"Drizzle (moderate)\", \"55\": \"Drizzle (heavy)\",\n",
    "    \"56\": \"Freezing drizzle (light)\", \"57\": \"Freezing drizzle (dense)\",\n",
    "    \"61\": \"Rain (slight)\", \"63\": \"Rain (moderate)\", \"65\": \"Rain (heavy)\",\n",
    "    \"66\": \"Freezing rain (light)\", \"67\": \"Freezing rain (heavy)\",\n",
    "    \"71\": \"Snow (slight)\", \"73\": \"Snow (moderate)\", \"75\": \"Snow (heavy)\",\n",
    "    \"77\": \"Snow grains\",\n",
    "    \"80\": \"Rain showers\", \"81\": \"Rain showers\", \"82\": \"Rain showers\",\n",
    "    \"85\": \"Snow showers\", \"86\": \"Snow showers\",\n",
    "    \"95\": \"Thunderstorm (slight or moderate)\",\n",
    "    \"96\": \"Thunderstorm with hail\", \"99\": \"Thunderstorm with hail\"\n",
    "}\n",
    "\n",
    "# 🔹 `replace()` 사용하여 매핑 적용\n",
    "df_weather = df_weather.replace(weather_mapping, subset=[\"weather_code (wmo code)\"])\n",
    "\n",
    "# 컬럼 이름 변경 (가독성 향상)\n",
    "df_weather = df_weather.withColumnRenamed(\"weather_code (wmo code)\", \"weather_condition\")\n",
    "\n",
    "# 결과 확인\n",
    "df_weather.show()"
   ]
  },
  {
   "cell_type": "code",
   "execution_count": 72,
   "id": "416b4036-745b-4b20-b016-bfe442d55a24",
   "metadata": {},
   "outputs": [
    {
     "name": "stdout",
     "output_type": "stream",
     "text": [
      "+--------------------+-------------------+------------------+---------+-----------------+\n",
      "|tpep_pickup_datetime|temperature_2m (°C)|precipitation (mm)|rain (mm)|weather_condition|\n",
      "+--------------------+-------------------+------------------+---------+-----------------+\n",
      "| 2023-03-01 00:06:43|               -0.6|              0.00|     0.00|    Partly cloudy|\n",
      "| 2023-03-01 00:08:25|               -0.6|              0.00|     0.00|    Partly cloudy|\n",
      "| 2023-03-01 00:15:04|               -0.6|              0.00|     0.00|    Partly cloudy|\n",
      "| 2023-03-01 00:49:37|               -0.6|              0.00|     0.00|    Partly cloudy|\n",
      "| 2023-03-01 00:08:04|               -0.6|              0.00|     0.00|    Partly cloudy|\n",
      "| 2023-03-01 00:09:09|               -0.6|              0.00|     0.00|    Partly cloudy|\n",
      "| 2023-03-01 00:32:21|               -0.6|              0.00|     0.00|    Partly cloudy|\n",
      "| 2023-03-01 00:45:12|               -0.6|              0.00|     0.00|    Partly cloudy|\n",
      "| 2023-03-01 00:19:43|               -0.6|              0.00|     0.00|    Partly cloudy|\n",
      "| 2023-03-01 00:08:42|               -0.6|              0.00|     0.00|    Partly cloudy|\n",
      "+--------------------+-------------------+------------------+---------+-----------------+\n",
      "only showing top 10 rows\n",
      "\n"
     ]
    }
   ],
   "source": [
    "# ✅ 1️⃣ Weather 데이터 `time`을 timestamp로 변환\n",
    "df_weather = df_weather.withColumn(\"time\", F.to_timestamp(F.col(\"time\"), \"yyyy-MM-dd'T'HH:mm\"))\n",
    "\n",
    "# ✅ 2️⃣ Weather 데이터에서 `날짜(date)`와 `시간(hour)` 컬럼 생성\n",
    "df_weather = df_weather.withColumn(\"date\", F.date_format(F.col(\"time\"), \"yyyy-MM-dd\"))\n",
    "df_weather = df_weather.withColumn(\"hour\", F.hour(col(\"time\")))\n",
    "\n",
    "# ✅ 4️⃣ Taxi 데이터와 Weather 데이터 Join (date, hour 기준)\n",
    "df_joined = df.join(df_weather, [\"date\", \"hour\"], \"left\")\n",
    "\n",
    "# ✅ 5️⃣ 결과 확인\n",
    "df_joined.select(\"tpep_pickup_datetime\", \"temperature_2m (°C)\", \"precipitation (mm)\", \"rain (mm)\", \"weather_condition\").show(10)"
   ]
  },
  {
   "cell_type": "code",
   "execution_count": 77,
   "id": "18f819b6-4fd4-4e37-83e9-264de53deea9",
   "metadata": {},
   "outputs": [
    {
     "name": "stderr",
     "output_type": "stream",
     "text": [
      "                                                                                "
     ]
    },
    {
     "data": {
      "image/png": "[encoded data removed]",
      "text/plain": [
       "<Figure size 1200x600 with 1 Axes>"
      ]
     },
     "metadata": {},
     "output_type": "display_data"
    }
   ],
   "source": [
    "import matplotlib.pyplot as plt\n",
    "\n",
    "# weather_condition별로 행 개수를 세서 택시 수요 계산\n",
    "weather_demand = df_joined.groupBy(\"weather_condition\").count().toPandas()\n",
    "\n",
    "# 컬럼 이름 변경\n",
    "weather_demand.columns = [\"weather_condition\", \"trip_count\"]\n",
    "\n",
    "weather_demand = weather_demand.dropna(subset=[\"weather_condition\"])\n",
    "\n",
    "# 그래프 그리기\n",
    "plt.figure(figsize=(12, 6))\n",
    "plt.bar(weather_demand[\"weather_condition\"], weather_demand[\"trip_count\"])\n",
    "plt.xlabel(\"Weather Condition\")\n",
    "plt.ylabel(\"Number of Taxi Trips\")\n",
    "plt.title(\"Taxi Demand by Weather Condition\")\n",
    "plt.xticks(rotation=45, ha='right')\n",
    "plt.grid(axis='y', linestyle='--', alpha=0.7)\n",
    "\n",
    "# 그래프 출력\n",
    "plt.show()\n"
   ]
  },
  {
   "cell_type": "code",
   "execution_count": 75,
   "id": "df855492-32cc-4664-92fa-7b0e628b95c8",
   "metadata": {},
   "outputs": [
    {
     "name": "stderr",
     "output_type": "stream",
     "text": [
      "                                                                                "
     ]
    },
    {
     "data": {
      "image/png": "[encoded data removed]",
      "text/plain": [
       "<Figure size 1000x600 with 1 Axes>"
      ]
     },
     "metadata": {},
     "output_type": "display_data"
    },
    {
     "name": "stdout",
     "output_type": "stream",
     "text": [
      "temperature_2m (°C)    0\n",
      "trip_count             0\n",
      "dtype: int64\n",
      "temperature_2m (°C)    0\n",
      "trip_count             0\n",
      "dtype: int64\n",
      "Empty DataFrame\n",
      "Columns: [temperature_2m (°C), trip_count]\n",
      "Index: []\n",
      "Pearson Correlation: -0.0604, P-value: 0.4207\n",
      "❌ 온도와 택시 수요 사이의 관계는 유의미하지 않습니다.\n"
     ]
    }
   ],
   "source": [
    "from pyspark.sql.functions import col, round, count\n",
    "import pandas as pd\n",
    "import numpy as np\n",
    "import matplotlib.pyplot as plt\n",
    "import seaborn as sns\n",
    "from scipy.stats import pearsonr\n",
    "\n",
    "# ✅ Step 1. 온도별 택시 호출 수 계산\n",
    "df_temp_demand = df_joined.groupBy(\"temperature_2m (°C)\").agg(F.count(\"*\").alias(\"trip_count\"))\n",
    "\n",
    "# Spark -> Pandas 변환\n",
    "df_temp_demand_pd = df_temp_demand.toPandas()\n",
    "\n",
    "# ✅ Step 2. 온도 vs 택시 호출 수 시각화\n",
    "plt.figure(figsize=(10,6))\n",
    "sns.scatterplot(data=df_temp_demand_pd, x=\"temperature_2m (°C)\", y=\"trip_count\", color=\"blue\", alpha=0.6)\n",
    "plt.xlabel(\"Temperature (°C)\")\n",
    "plt.ylabel(\"Number of Taxi Trips\")\n",
    "plt.title(\"Taxi Demand vs. Temperature\")\n",
    "plt.grid(True)\n",
    "plt.show()\n",
    "\n",
    "df_temp_demand_pd = df_temp_demand_pd.dropna(subset=[\"temperature_2m (°C)\"])\n",
    "\n",
    "\n",
    "print(df_temp_demand_pd.isnull().sum())  # NaN 값 개수 확인\n",
    "print(df_temp_demand_pd[df_temp_demand_pd.isin([np.inf, -np.inf])].count())  # inf 값 확인\n",
    "print(df_temp_demand_pd[df_temp_demand_pd.isnull().any(axis=1)])\n",
    "\n",
    "# ✅ Step 3. 상관관계 분석 (Pearson Correlation)\n",
    "temp_values = df_temp_demand_pd[\"temperature_2m (°C)\"].astype(float)\n",
    "trip_values = df_temp_demand_pd[\"trip_count\"].astype(float)\n",
    "\n",
    "\n",
    "correlation, p_value = pearsonr(temp_values, trip_values)\n",
    "print(f\"Pearson Correlation: {correlation:.4f}, P-value: {p_value:.4f}\")\n",
    "\n",
    "# ✅ Step 4. 결과 해석\n",
    "if p_value < 0.05:\n",
    "    print(\"✅ 온도와 택시 수요 사이에 통계적으로 유의미한 상관관계가 있습니다.\")\n",
    "else:\n",
    "    print(\"❌ 온도와 택시 수요 사이의 관계는 유의미하지 않습니다.\")\n"
   ]
  }
 ],
 "metadata": {
  "kernelspec": {
   "display_name": "Python 3.9 (System)",
   "language": "python",
   "name": "python3"
  },
  "language_info": {
   "codemirror_mode": {
    "name": "ipython",
    "version": 3
   },
   "file_extension": ".py",
   "mimetype": "text/x-python",
   "name": "python",
   "nbconvert_exporter": "python",
   "pygments_lexer": "ipython3",
   "version": "3.9.6"
  }
 },
 "nbformat": 4,
 "nbformat_minor": 5
}
