{
 "cells": [
  {
   "cell_type": "code",
   "execution_count": 43,
   "id": "6a16bc26-022c-411f-9b62-e8156dce385d",
   "metadata": {},
   "outputs": [],
   "source": [
    "def log(describe) :\n",
    "    import datetime as datetime\n",
    "    log_txt = open('etl_project_log.txt','a')\n",
    "    print(datetime.datetime.now(), describe, '\\n', file = log_txt)\n",
    "    log_txt.close()\n",
    "\n",
    "def extract_gdp():\n",
    "    import requests\n",
    "    import datetime as datetime\n",
    "    from bs4 import BeautifulSoup\n",
    "    import pandas as pd\n",
    "\n",
    "    log(\"Extract start\")\n",
    "\n",
    "    html = requests.get(\"https://en.wikipedia.org/wiki/List_of_countries_by_GDP_%28nominal%29\").text\n",
    "    soup = BeautifulSoup(html, 'html.parser')\n",
    "    gdp = soup.find(\"table\", {\"class\": 'wikitable'}).find('tbody').find_all('tr')[3:]\n",
    "    gdp_imf = [[gdp_row.find_all('td')[i].text.strip() for i in range(2)] for gdp_row in gdp]\n",
    "\n",
    "    df_gdp = pd.DataFrame(gdp_imf)\n",
    "    df_gdp.to_json('raw_data_gdp.json')\n",
    "\n",
    "    log(\"Extract finish\")\n",
    "\n",
    "    return 'raw_data_gdp.json'\n",
    "\n",
    "def transform_gdp(json):\n",
    "\n",
    "    import datetime as datetime\n",
    "    import pandas as pd\n",
    "\n",
    "    log(\"Transform start\")\n",
    "    \n",
    "    df_gdp = pd.read_json(json)\n",
    "    df_gdp.columns = ['country', 'gdp']\n",
    "    df_gdp['gdp'] = df_gdp['gdp'].apply(lambda x : int(x.replace(\",\",\"\")) if x != '—' else None)\n",
    "    df_gdp['gdp'] = round(df_gdp['gdp']/1000, 2)\n",
    "    df_gdp = df_gdp.sort_values('gdp', ascending = False)\n",
    "\n",
    "    log(\"Transform finish\")\n",
    "\n",
    "    return df_gdp\n",
    "\n",
    "def load_gdp(df_gdp) :\n",
    "\n",
    "    import datetime as datetime\n",
    "    import pandas as pd\n",
    "    import pycountry_convert as pc\n",
    "    \n",
    "    log(\"Load start\")\n",
    "    \n",
    "    df_100B = df_gdp[df_gdp['gdp'] >= 100]\n",
    "    print(df_100B)\n",
    "\n",
    "    def country_to_continent(x) :\n",
    "        try : continent = pc.country_alpha2_to_continent_code(pc.country_name_to_country_alpha2(x))\n",
    "        except :\n",
    "            exception_region_dict = {'DR Congo' : 'AF', 'Kosovo' : 'EU', 'Sint Maarten' : 'EU', 'Zanzibar' : 'AF', 'East Timor' : 'AS'}\n",
    "            continent = exception_region_dict[x]\n",
    "        return continent\n",
    "\n",
    "    df_gdp['continent'] = df_gdp['country'].apply(lambda x : country_to_continent(x))\n",
    "    df_region_top5 = df_gdp.groupby('continent').head(5).groupby('continent').mean('gdp').sort_values('gdp', ascending = False)\n",
    "    print(df_region_top5)\n",
    "    \n",
    "    log(\"Load finish\")\n",
    "\n",
    "def ETL_gdp() :\n",
    "    json = extract_gdp()\n",
    "    df_gdp = transform_gdp(json)\n",
    "    load_gdp(df_gdp)"
   ]
  },
  {
   "cell_type": "code",
   "execution_count": 44,
   "id": "17587d0e-9204-440c-8110-971698a6d789",
   "metadata": {},
   "outputs": [
    {
     "name": "stdout",
     "output_type": "stream",
     "text": [
      "          country       gdp\n",
      "0   United States  30337.16\n",
      "1           China  19534.89\n",
      "2         Germany   4921.56\n",
      "3           Japan   4389.33\n",
      "4           India   4271.92\n",
      "..            ...       ...\n",
      "68     Uzbekistan    112.65\n",
      "69      Guatemala    112.37\n",
      "70           Oman    109.99\n",
      "71       Bulgaria    108.42\n",
      "72      Venezuela    106.33\n",
      "\n",
      "[72 rows x 2 columns]\n",
      "                gdp\n",
      "continent          \n",
      "NA         6946.500\n",
      "AS         6327.178\n",
      "EU         3318.112\n",
      "SA          791.566\n",
      "OC          436.658\n",
      "AF          285.184\n"
     ]
    }
   ],
   "source": [
    "ETL_gdp()"
   ]
  },
  {
   "cell_type": "code",
   "execution_count": 26,
   "id": "500ff61c-38fe-4065-9085-f45378669720",
   "metadata": {},
   "outputs": [
    {
     "data": {
      "text/plain": [
       "<_io.TextIOWrapper name='etl_project_log.txt' mode='w' encoding='UTF-8'>"
      ]
     },
     "execution_count": 26,
     "metadata": {},
     "output_type": "execute_result"
    }
   ],
   "source": [
    "open(\"etl_project_log.txt\", 'w')"
   ]
  },
  {
   "cell_type": "code",
   "execution_count": null,
   "id": "5ef132f7-03dc-415c-b154-520badcec991",
   "metadata": {},
   "outputs": [],
   "source": []
  }
 ],
 "metadata": {
  "kernelspec": {
   "display_name": "Python 3 (ipykernel)",
   "language": "python",
   "name": "python3"
  },
  "language_info": {
   "codemirror_mode": {
    "name": "ipython",
    "version": 3
   },
   "file_extension": ".py",
   "mimetype": "text/x-python",
   "name": "python",
   "nbconvert_exporter": "python",
   "pygments_lexer": "ipython3",
   "version": "3.9.6"
  }
 },
 "nbformat": 4,
 "nbformat_minor": 5
}
