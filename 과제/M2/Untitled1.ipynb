{
 "cells": [
  {
   "cell_type": "markdown",
   "id": "6167a85e-6a23-4a60-8f4d-ecde6a6152b8",
   "metadata": {},
   "source": [
    "## W2M6 - Docker 이미지를 AWS EC2에 배포하기"
   ]
  },
  {
   "cell_type": "markdown",
   "id": "f789ba61-6060-4d3e-8872-14e1d995c2d5",
   "metadata": {},
   "source": [
    "### AWS 계정 만들기"
   ]
  },
  {
   "cell_type": "markdown",
   "id": "6f4c2f23-874d-46ac-ab28-7b05981bbc80",
   "metadata": {},
   "source": [
    "aws.woosukyoon@gmail.com으로 구글 계정 생성"
   ]
  },
  {
   "cell_type": "markdown",
   "id": "5e576da5-a5b1-4977-9285-95211caabe5c",
   "metadata": {},
   "source": [
    "### AWS free-tier EC2 생성하기"
   ]
  },
  {
   "cell_type": "markdown",
   "id": "987507b8-ab3c-4dc6-b623-0ee26adeede5",
   "metadata": {},
   "source": [
    "WoosukYoon_Hyundai_softeer를 인스턴스 이름으로 EC2 생성.</br>\n",
    "AMI는 Ubuntu로 설정."
   ]
  },
  {
   "cell_type": "markdown",
   "id": "f05c5fea-e574-466d-a54f-5d30c0697566",
   "metadata": {},
   "source": [
    "User data를 이용하여 EC2에 Docker 설치"
   ]
  },
  {
   "cell_type": "raw",
   "id": "87c40d67-99b4-4536-80f2-3179fb3725e0",
   "metadata": {},
   "source": [
    "#!/bin/bash\n",
    "sudo apt update\n",
    "sudo apt install apt-transport-https ca-certificates curl software-properties-common\n",
    "curl -fsSL https://download.docker.com/linux/ubuntu/gpg | sudo apt-key add -\n",
    "sudo add-apt-repository \"deb [arch=amd64] https://download.docker.com/linux/ubuntu focal stable\"\n",
    "sudo apt update"
   ]
  },
  {
   "cell_type": "markdown",
   "id": "c8e00152-3102-414b-9b40-94d5e2cb5093",
   "metadata": {},
   "source": [
    "![example11111](dockerfileimage.png)"
   ]
  },
  {
   "cell_type": "code",
   "execution_count": null,
   "id": "48729618-50f9-4e84-b230-f9598e07a7ac",
   "metadata": {},
   "outputs": [],
   "source": []
  }
 ],
 "metadata": {
  "kernelspec": {
   "display_name": "Python 3 (ipykernel)",
   "language": "python",
   "name": "python3"
  },
  "language_info": {
   "codemirror_mode": {
    "name": "ipython",
    "version": 3
   },
   "file_extension": ".py",
   "mimetype": "text/x-python",
   "name": "python",
   "nbconvert_exporter": "python",
   "pygments_lexer": "ipython3",
   "version": "3.13.1"
  }
 },
 "nbformat": 4,
 "nbformat_minor": 5
}
